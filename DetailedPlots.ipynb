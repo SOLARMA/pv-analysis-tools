{
 "cells": [
  {
   "cell_type": "markdown",
   "metadata": {},
   "source": [
    "## Packages"
   ]
  },
  {
   "cell_type": "code",
   "execution_count": null,
   "metadata": {},
   "outputs": [],
   "source": [
    "import matplotlib.pyplot as plt\n",
    "import pandas as pd\n",
    "\n",
    "from datetime import datetime\n",
    "from matplotlib.ticker import MaxNLocator\n",
    "\n",
    "\n",
    "from IPython.display import display"
   ]
  },
  {
   "cell_type": "markdown",
   "metadata": {},
   "source": [
    "## Settings"
   ]
  },
  {
   "cell_type": "code",
   "execution_count": null,
   "metadata": {},
   "outputs": [],
   "source": [
    "# Source data file\n",
    "sPath = 'details.txt'"
   ]
  },
  {
   "cell_type": "markdown",
   "metadata": {},
   "source": [
    "## Import the data"
   ]
  },
  {
   "cell_type": "code",
   "execution_count": null,
   "metadata": {},
   "outputs": [],
   "source": [
    "# import raw data\n",
    "rawdata = pd.read_csv(sPath, sep='\\t', encoding='latin-1')\n",
    "\n",
    "# replace NaN values with 0\n",
    "rawdata.fillna(0, inplace=True)"
   ]
  },
  {
   "cell_type": "code",
   "execution_count": null,
   "metadata": {},
   "outputs": [],
   "source": [
    "display(rawdata)"
   ]
  },
  {
   "cell_type": "markdown",
   "metadata": {},
   "source": [
    "## Data processing"
   ]
  },
  {
   "cell_type": "code",
   "execution_count": null,
   "metadata": {},
   "outputs": [],
   "source": [
    "# print(rawdata.columns)\n",
    "\n",
    "# Assign each column to a variable\n",
    "ora = rawdata[rawdata.columns[0]]\n",
    "disp = rawdata[rawdata.columns[1]]\n",
    "# serie = rawdata[rawdata.columns[2]]\n",
    "potenza = rawdata[rawdata.columns[3]]\n",
    "# energia = rawdata[rawdata.columns[4]]\n",
    "# temperatura = rawdata[rawdata.columns[5]]\n",
    "# tensione1 = rawdata[rawdata.columns[6]]\n",
    "# corrente1 = rawdata[rawdata.columns[7]]\n",
    "# tensione2 = rawdata[rawdata.columns[8]]\n",
    "# corrente2 = rawdata[rawdata.columns[9]]\n",
    "# tensione3 = rawdata[rawdata.columns[10]]\n",
    "# corrente3 = rawdata[rawdata.columns[11]]\n",
    "# stato = rawdata[rawdata.columns[12]]\n",
    "# modulicc = rawdata[rawdata.columns[13]]\n",
    "# errore = rawdata[rawdata.columns[14]]\n",
    "# pannello = rawdata[rawdata.columns[15]]\n",
    "# limite = rawdata[rawdata.columns[16]]\n",
    "# fase = rawdata[rawdata.columns[17]]\n",
    "# cosphi = rawdata[rawdata.columns[18]]\n",
    "\n",
    "# ottieni il mese relativo al log\n",
    "month = ora[0][:8]\n",
    "\n",
    "# ottieni le date non ripetute\n",
    "# per provare i primi due giorni sostituisci 'ora' con 'ora[:3500]'\n",
    "uniqueTimes = ora.unique()\n",
    "\n",
    "# rimuovi l'informazione sulla data e sui secondi\n",
    "uniqueSimpleTime = pd.Series(map(lambda x: x.split(' ')[1][:-3], uniqueTimes))\n",
    "\n",
    "# ricava il giorno dalla stringa del tempo\n",
    "days = pd.Series(map(lambda x: datetime.strptime(x,\"%Y-%m-%d %H:%M:%S\").day, uniqueTimes))\n",
    "# ottieni i giorni non ripetuti\n",
    "uniqueDays = days.unique()\n",
    "\n",
    "# ottieni la potenza totale dei 13 pannelli\n",
    "totPower = pd.DataFrame(map(lambda time: sum(potenza[ora==time]), uniqueTimes))\n",
    "\n",
    "\n",
    "## EXPERIMENTING WITH PIVOT TABLES\n",
    "# first split the time column in two:\n",
    "processedData = rawdata.copy()\n",
    "\n",
    "temp = processedData.columns.to_list()\n",
    "temp[0] = 'Data'\n",
    "processedData.columns = temp\n",
    "# convert the date-string column into a date/time object\n",
    "processedData['Data'] = pd.to_datetime(processedData['Data'])\n",
    "# create a new column containing the time only (HH:MM)\n",
    "processedData['Ora'] = processedData['Data'].dt.strftime(\"%H:%M\")\n",
    "# and reformat 'Date' to keep only the information about the day\n",
    "processedData['Data'] = processedData['Data'].dt.strftime(\"%Y-%m-%d\")\n",
    "\n",
    "# list with all the dates (can be used as a filter later)\n",
    "# uniqueDates = processedData.Data.unique()\n",
    "\n",
    "# obtain column strings from position\n",
    "sNDevice = processedData.columns[1]\n",
    "sPower = processedData.columns[3]\n",
    "\n",
    "# power per device\n",
    "stackedFrame = processedData.set_index(['Data', sNDevice, 'Ora'])\n",
    "stackedFrame.sort_index(inplace=True)\n",
    "\n",
    "# total power\n",
    "groupedFrame = processedData.groupby(['Data','Ora'])[sPower].sum().to_frame()"
   ]
  },
  {
   "cell_type": "markdown",
   "metadata": {},
   "source": [
    "## Plots config"
   ]
  },
  {
   "cell_type": "code",
   "execution_count": null,
   "metadata": {},
   "outputs": [],
   "source": [
    "# dimensione base delle\n",
    "sz = 10\n",
    "\n",
    "# dimensione delle etichette x-y, del titolo e dei numeri dei grafici\n",
    "labelsize = 20\n",
    "titlesize = 25\n",
    "numsize = 15"
   ]
  },
  {
   "cell_type": "markdown",
   "metadata": {},
   "source": [
    "# Plots"
   ]
  },
  {
   "cell_type": "markdown",
   "metadata": {},
   "source": [
    "## Cumulative daily plots"
   ]
  },
  {
   "cell_type": "code",
   "execution_count": null,
   "metadata": {},
   "outputs": [],
   "source": [
    "for sDate, dayTable in groupedFrame.groupby(level=0):\n",
    "    # remove date index\n",
    "    dayTable = dayTable.droplevel(level=0)\n",
    "    \n",
    "    fig, ax = plt.subplots(1, 1, figsize=(sz, sz))\n",
    "    ax.plot(dayTable/1000)\n",
    "    \n",
    "    # \n",
    "    ax.xaxis.set_major_locator(MaxNLocator(nbins=24))\n",
    "    ax.grid(b=True)\n",
    "    ax.set_title(sDate + \" - Potenza totale\", size = titlesize)\n",
    "    ax.set_ylabel(\"Potenza totale [kW]\", size = labelsize)\n",
    "    ax.set_xlabel(\"Tempo\", size = labelsize)\n",
    "    \n",
    "    plt.xticks(rotation=45, size = numsize)\n",
    "    plt.yticks(size = numsize)"
   ]
  },
  {
   "cell_type": "markdown",
   "metadata": {},
   "source": [
    "## Inverters daily plots"
   ]
  },
  {
   "cell_type": "code",
   "execution_count": null,
   "metadata": {},
   "outputs": [],
   "source": [
    "# Draw one plot for every day\n",
    "for sDate, dayTable in stackedFrame.groupby(level=0):\n",
    "    fig, ax = plt.subplots(1, 1, figsize=(sz, sz))\n",
    "    \n",
    "    # remove date index\n",
    "    dayTable = dayTable.droplevel(level=0)\n",
    "    \n",
    "    # draw one series for every device\n",
    "    for sDevice, deviceTable in dayTable.groupby(level=0):\n",
    "        # remove device index and get power column\n",
    "        deviceTable = deviceTable.droplevel(level=0)[sPower]/1000\n",
    "        # plot nth device power\n",
    "        plt.plot(deviceTable, label=sDevice)\n",
    "    \n",
    "    \n",
    "    ax.xaxis.set_major_locator(MaxNLocator(nbins=24))\n",
    "    ax.grid(b=True)\n",
    "    ax.set_title(sDate + \" - Potenza per inverter\", size = titlesize)\n",
    "    ax.set_ylabel(\"Potenza totale [kW]\", size = labelsize)\n",
    "    ax.set_xlabel(\"Tempo\", size = labelsize)\n",
    "    \n",
    "    plt.xticks(rotation=45, size = numsize)\n",
    "    plt.yticks(size = numsize)\n",
    "    \n",
    "    # increase current axis by 5%\n",
    "    box = ax.get_position()\n",
    "    ax.set_position([box.x0, box.y0, box.width * 1.05, box.height])\n",
    "\n",
    "    # Put a legend to the right of the current axis\n",
    "    ax.legend(loc='center left', bbox_to_anchor=(1, 0.5), title = \"Inverter\")\n",
    "    "
   ]
  }
 ],
 "metadata": {
  "kernelspec": {
   "display_name": "Python 3",
   "language": "python",
   "name": "python3"
  },
  "language_info": {
   "codemirror_mode": {
    "name": "ipython",
    "version": 3
   },
   "file_extension": ".py",
   "mimetype": "text/x-python",
   "name": "python",
   "nbconvert_exporter": "python",
   "pygments_lexer": "ipython3",
   "version": "3.7.3"
  }
 },
 "nbformat": 4,
 "nbformat_minor": 2
}
